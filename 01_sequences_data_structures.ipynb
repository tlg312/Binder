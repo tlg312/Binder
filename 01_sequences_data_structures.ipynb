{
 "cells": [
  {
   "cell_type": "markdown",
   "metadata": {},
   "source": [
    "# COMP3330/6380 Python Introduction"
   ]
  },
  {
   "cell_type": "markdown",
   "metadata": {},
   "source": [
    "Python 3 contains many sequences and data structures, including:\n",
    "    1. Strings\n",
    "    2. Lists\n",
    "    3. Dictionaries\n",
    "    4. Sets\n",
    "    5. Tuples\n",
    "    \n",
    "The official Python data structures documentation is a great reference and can be found here:\n",
    "\n",
    "https://docs.python.org/3/tutorial/datastructures.html"
   ]
  },
  {
   "cell_type": "markdown",
   "metadata": {},
   "source": [
    "## Strings"
   ]
  },
  {
   "cell_type": "code",
   "execution_count": 1,
   "metadata": {},
   "outputs": [
    {
     "name": "stdout",
     "output_type": "stream",
     "text": [
      "compxxxx\n"
     ]
    }
   ],
   "source": [
    "a = \"comp\"\n",
    "b = \"xxxx\"\n",
    "a += b #string concatenation\n",
    "\n",
    "print(a)"
   ]
  },
  {
   "cell_type": "code",
   "execution_count": 2,
   "metadata": {},
   "outputs": [
    {
     "name": "stdout",
     "output_type": "stream",
     "text": [
      "8\n",
      "('compxxxx', <type 'str'>)\n",
      "c\n",
      "x\n"
     ]
    }
   ],
   "source": [
    "print(len(a))\n",
    "print(a, type(a))\n",
    "print(a[0]) #access the 0th (first) element of the string\n",
    "print(a[-1]) #access the -1th (last) element of the string"
   ]
  },
  {
   "cell_type": "markdown",
   "metadata": {},
   "source": [
    "*Slicing* is a powerful method of indexing sub-sequences in Python:"
   ]
  },
  {
   "cell_type": "code",
   "execution_count": 3,
   "metadata": {},
   "outputs": [
    {
     "name": "stdout",
     "output_type": "stream",
     "text": [
      "comp\n",
      "xxxx\n",
      "mp\n"
     ]
    }
   ],
   "source": [
    "#a[start:end]\n",
    "#a[start:]\n",
    "#a[:end]\n",
    "#a[:]\n",
    "print(a[:4]) #string up until the fifth element of the array\n",
    "print(a[4:]) #string after and including the fifth element of the array\n",
    "\n",
    "print(a[2:4])"
   ]
  },
  {
   "cell_type": "markdown",
   "metadata": {},
   "source": [
    "## Lists"
   ]
  },
  {
   "cell_type": "markdown",
   "metadata": {},
   "source": [
    "Python does not have an in-built array data structure, but instead relies on lists (packages such as Numpy provide standard array functionality if required)."
   ]
  },
  {
   "cell_type": "code",
   "execution_count": 4,
   "metadata": {},
   "outputs": [
    {
     "name": "stdout",
     "output_type": "stream",
     "text": [
      "[3, 2, 1]\n",
      "3\n"
     ]
    }
   ],
   "source": [
    "a = [3, 2, 1] #list containing 3 integer elements\n",
    "\n",
    "b = [3, 2, 1, \"hello world\"] #lists can contain elements different types\n",
    "\n",
    "print(a)\n",
    "\n",
    "print(len(a))"
   ]
  },
  {
   "cell_type": "markdown",
   "metadata": {},
   "source": [
    "Arrays can be indexed and sliced as normal."
   ]
  },
  {
   "cell_type": "code",
   "execution_count": 5,
   "metadata": {},
   "outputs": [
    {
     "name": "stdout",
     "output_type": "stream",
     "text": [
      "3\n",
      "1\n",
      "[2, 1]\n",
      "[3]\n"
     ]
    }
   ],
   "source": [
    "print(a[0])\n",
    "print(a[-1])\n",
    "\n",
    "print(a[1:])\n",
    "print(a[:1])"
   ]
  },
  {
   "cell_type": "markdown",
   "metadata": {},
   "source": [
    "Standard list data structure operations can be performed on lists."
   ]
  },
  {
   "cell_type": "code",
   "execution_count": 6,
   "metadata": {},
   "outputs": [
    {
     "name": "stdout",
     "output_type": "stream",
     "text": [
      "[3, 2, 1, 0]\n",
      "[4, 3, 2, 1, 0]\n",
      "[3, 2, 1, 0]\n",
      "[3, 2, 1]\n",
      "[2, 1]\n",
      "[1, 2]\n",
      "[2, 1]\n"
     ]
    }
   ],
   "source": [
    "a.append(0) #insert 0 at the end of the list\n",
    "\n",
    "print(a)\n",
    "\n",
    "a.insert(0, 4) #insert 4 at element 0 (start of the list)\n",
    "\n",
    "print(a)\n",
    "\n",
    "a.remove(4) #this operation only removes the first item in the list equal to 4\n",
    "\n",
    "print(a)\n",
    "\n",
    "a.pop() #removes the last item of the list\n",
    "\n",
    "print(a)\n",
    "\n",
    "a.pop(0) #removes the 0th item of the list\n",
    "\n",
    "print(a)\n",
    "\n",
    "a.sort()\n",
    "\n",
    "print(a)\n",
    "\n",
    "a.reverse()\n",
    "\n",
    "print(a)"
   ]
  },
  {
   "cell_type": "markdown",
   "metadata": {},
   "source": [
    "## Iterating"
   ]
  },
  {
   "cell_type": "markdown",
   "metadata": {},
   "source": [
    "We can iterate over sequences in a number of ways in Python:\n",
    "\n",
    "1. Using an iterable\n",
    "2. Using a standard for loop\n",
    "3. Using a while loop"
   ]
  },
  {
   "cell_type": "code",
   "execution_count": 7,
   "metadata": {},
   "outputs": [
    {
     "name": "stdout",
     "output_type": "stream",
     "text": [
      "2\n",
      "1\n"
     ]
    }
   ],
   "source": [
    "for element in a: #lists are iterable -- for each element in a\n",
    "    print(element)"
   ]
  },
  {
   "cell_type": "code",
   "execution_count": 8,
   "metadata": {},
   "outputs": [
    {
     "name": "stdout",
     "output_type": "stream",
     "text": [
      "('Index', 0, 'Element at index', 2)\n",
      "('Index', 1, 'Element at index', 1)\n"
     ]
    }
   ],
   "source": [
    "for i in range(len(a)): #standard for loop -- range(len(a)) creates a sequence of numbers between 0 and the length of a\n",
    "    print(\"Index\",i,\"Element at index\",a[i])"
   ]
  },
  {
   "cell_type": "code",
   "execution_count": 9,
   "metadata": {},
   "outputs": [
    {
     "name": "stdout",
     "output_type": "stream",
     "text": [
      "2\n",
      "1\n"
     ]
    }
   ],
   "source": [
    "i = 0\n",
    "while i < len(a): #standard while loop\n",
    "    print(a[i])\n",
    "    i += 1"
   ]
  },
  {
   "cell_type": "markdown",
   "metadata": {},
   "source": [
    "We can also use *list comprehensions* to write a for loop in one line:"
   ]
  },
  {
   "cell_type": "code",
   "execution_count": 10,
   "metadata": {},
   "outputs": [
    {
     "name": "stdout",
     "output_type": "stream",
     "text": [
      "[4, 2]\n",
      "[4, 2]\n"
     ]
    }
   ],
   "source": [
    "b = [x * 2 for x in a]\n",
    "\n",
    "print(b)\n",
    "\n",
    "#equivalent to\n",
    "\n",
    "c = []\n",
    "\n",
    "for x in a:\n",
    "    c.append(x * 2)\n",
    "    \n",
    "print(c)"
   ]
  },
  {
   "cell_type": "markdown",
   "metadata": {},
   "source": [
    "## Aliasing and copying"
   ]
  },
  {
   "cell_type": "code",
   "execution_count": 11,
   "metadata": {},
   "outputs": [
    {
     "name": "stdout",
     "output_type": "stream",
     "text": [
      "[1, 2, 3, 4]\n"
     ]
    }
   ],
   "source": [
    "a = [1, 2, 3]\n",
    "\n",
    "c = a #c is now an ALIAS to a (not a new list)\n",
    "\n",
    "a.append(4) #add to original list\n",
    "\n",
    "print(c) "
   ]
  },
  {
   "cell_type": "markdown",
   "metadata": {},
   "source": [
    "Therefore, we need methods to copy (and not simply alias) lists and other objects:"
   ]
  },
  {
   "cell_type": "code",
   "execution_count": 12,
   "metadata": {},
   "outputs": [],
   "source": [
    "d = a[:] #copying through slicing entire list\n",
    "\n",
    "import copy\n",
    "\n",
    "e = copy.copy(a) #creates a shallow copy of a -- creates a NEW list and inserts REFERENCES to objects found in original list\n",
    "\n",
    "f = copy.deepcopy(a) #creates a deep copy of a -- creates a NEW list and recursively adds COPIES of objects found in original list"
   ]
  },
  {
   "cell_type": "markdown",
   "metadata": {
    "collapsed": true
   },
   "source": [
    "## Dictionaries"
   ]
  },
  {
   "cell_type": "markdown",
   "metadata": {},
   "source": [
    "Python dictionaries can be thought of as unordered sets of key : value pairs, where keys are unique. Keys can be any immutable type. Here are four different methods of creating the same dictionary:"
   ]
  },
  {
   "cell_type": "code",
   "execution_count": 13,
   "metadata": {},
   "outputs": [
    {
     "name": "stdout",
     "output_type": "stream",
     "text": [
      "{'three': 3, 'two': 2, 'one': 1}\n",
      "{'three': 3, 'two': 2, 'one': 1}\n",
      "{'three': 3, 'two': 2, 'one': 1}\n",
      "{'one': 1, 'three': 3, 'two': 2}\n"
     ]
    }
   ],
   "source": [
    "g = dict(one = 1, two = 2, three = 3)\n",
    "\n",
    "print(g)\n",
    "\n",
    "h = {'one':1, 'two':2, 'three':3} \n",
    "\n",
    "print(h)\n",
    "\n",
    "j = dict([('two', 2), ('one', 1), ('three', 3)])\n",
    "\n",
    "print(j)\n",
    "\n",
    "k = dict({'three': 3, 'one': 1, 'two': 2})\n",
    "\n",
    "print(k)"
   ]
  },
  {
   "cell_type": "markdown",
   "metadata": {},
   "source": [
    "## Sets"
   ]
  },
  {
   "cell_type": "markdown",
   "metadata": {},
   "source": [
    "A set is an unordered collection with no duplicate elements."
   ]
  },
  {
   "cell_type": "code",
   "execution_count": 14,
   "metadata": {},
   "outputs": [
    {
     "name": "stdout",
     "output_type": "stream",
     "text": [
      "set(['76', '92', '85'])\n"
     ]
    }
   ],
   "source": [
    "grades = ['76', '85', '92', '76']\n",
    "\n",
    "grades_set = set(grades)\n",
    "\n",
    "print(grades_set) #duplicates have been removed"
   ]
  },
  {
   "cell_type": "markdown",
   "metadata": {},
   "source": [
    "Set objects support mathematical operations such as set difference, union, etc"
   ]
  },
  {
   "cell_type": "code",
   "execution_count": 15,
   "metadata": {},
   "outputs": [
    {
     "name": "stdout",
     "output_type": "stream",
     "text": [
      "set([1, 2])\n",
      "set([1, 2, 3, 4, 5, 6])\n",
      "set([3, 4])\n",
      "set([1, 2, 5, 6])\n"
     ]
    }
   ],
   "source": [
    "l = set([1, 2, 3, 4])\n",
    "m = set([3, 4, 5, 6])\n",
    "\n",
    "print(l - m) #difference\n",
    "print(l | m) #union\n",
    "print(l & m) #intersection\n",
    "print(l ^ m) #symm difference"
   ]
  },
  {
   "cell_type": "markdown",
   "metadata": {
    "collapsed": true
   },
   "source": [
    "<complete>"
   ]
  },
  {
   "cell_type": "code",
   "execution_count": null,
   "metadata": {
    "collapsed": true
   },
   "outputs": [],
   "source": []
  }
 ],
 "metadata": {
  "kernelspec": {
   "display_name": "Python 3",
   "language": "python",
   "name": "python3"
  },
  "language_info": {
   "codemirror_mode": {
    "name": "ipython",
    "version": 2
   },
   "file_extension": ".py",
   "mimetype": "text/x-python",
   "name": "python",
   "nbconvert_exporter": "python",
   "pygments_lexer": "ipython2",
   "version": "2.7.12"
  }
 },
 "nbformat": 4,
 "nbformat_minor": 2
}

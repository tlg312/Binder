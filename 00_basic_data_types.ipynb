{
 "cells": [
  {
   "cell_type": "markdown",
   "metadata": {},
   "source": [
    "# COMP3330/6380 Python Introduction"
   ]
  },
  {
   "cell_type": "markdown",
   "metadata": {},
   "source": [
    "Python is a popular and widely used *interpreted* programming language (meaning that code is executed directly and not compiled to machine-level code).\n",
    "\n",
    "Python emphasizes code *readability* by using whitespace (tabs/spaces) instead of curly braces and a more succint syntax, allowing programmers to use fewer lines of code than would be necessary in more verbose languages such as Java.\n",
    "\n",
    "Python supports multiple programming paradigms, including object-oriented, imperative, and functional paradigms.\n",
    "\n",
    "Python has become extremely popular with the data science/machine learning communities. As a result, many high quality packages and libraries are available.\n",
    "\n",
    "In this course we will be using **Python 3**."
   ]
  },
  {
   "cell_type": "markdown",
   "metadata": {},
   "source": [
    "## Basic data types"
   ]
  },
  {
   "cell_type": "markdown",
   "metadata": {},
   "source": [
    "Python 3 includes various built-in basic data types, including the following:\n",
    "1. Integers\n",
    "2. Floats\n",
    "3. Booleans\n",
    "    \n",
    "This tutorial will introduce you to these basic data types and various operations which can be performed on/using them."
   ]
  },
  {
   "cell_type": "markdown",
   "metadata": {},
   "source": [
    "## Integers"
   ]
  },
  {
   "cell_type": "code",
   "execution_count": 1,
   "metadata": {},
   "outputs": [
    {
     "name": "stdout",
     "output_type": "stream",
     "text": [
      "(4, <type 'int'>)\n"
     ]
    }
   ],
   "source": [
    "a = 1 #a is an integer with a value of 1\n",
    "a += 1 #equivalent to a = a + 1 (python does not have a ++ operator)\n",
    "a *= 2 #equivalent to a = a * 2\n",
    "print(a, type(a))"
   ]
  },
  {
   "cell_type": "markdown",
   "metadata": {},
   "source": [
    "## Floats"
   ]
  },
  {
   "cell_type": "code",
   "execution_count": 2,
   "metadata": {},
   "outputs": [
    {
     "name": "stdout",
     "output_type": "stream",
     "text": [
      "(1.0, <type 'float'>)\n",
      "(1.5, <type 'float'>)\n"
     ]
    }
   ],
   "source": [
    "a = 1. #a is now a float -- variable types can be changed\n",
    "print(a, type(a))\n",
    "\n",
    "a = 1.5\n",
    "print(a, type(a))"
   ]
  },
  {
   "cell_type": "markdown",
   "metadata": {},
   "source": [
    "## Booleans"
   ]
  },
  {
   "cell_type": "code",
   "execution_count": 3,
   "metadata": {},
   "outputs": [
    {
     "name": "stdout",
     "output_type": "stream",
     "text": [
      "<type 'bool'>\n",
      "False\n",
      "True\n",
      "False\n",
      "True\n"
     ]
    }
   ],
   "source": [
    "a = True\n",
    "b = False\n",
    "\n",
    "print(type(a))\n",
    "print(a and b) #note that all logical operators (other than xor) are words and not symbols\n",
    "print(a or b)\n",
    "print(not a)\n",
    "print(a != b)"
   ]
  },
  {
   "cell_type": "markdown",
   "metadata": {},
   "source": [
    "## If-then-else control structure"
   ]
  },
  {
   "cell_type": "code",
   "execution_count": 4,
   "metadata": {},
   "outputs": [
    {
     "name": "stdout",
     "output_type": "stream",
     "text": [
      "D\n"
     ]
    }
   ],
   "source": [
    "mark = 79\n",
    "\n",
    "if mark >= 85:\n",
    "    grade = \"HD\"\n",
    "elif mark >= 75: #\"else if\" is abbreviated to \"elif\"\n",
    "    grade = \"D\"\n",
    "elif mark >= 65:\n",
    "    grade = \"C\"\n",
    "elif mark >= 50:\n",
    "    grade = \"P\"\n",
    "else:\n",
    "    grade = \"F\"\n",
    "    \n",
    "print(grade)"
   ]
  },
  {
   "cell_type": "code",
   "execution_count": null,
   "metadata": {
    "collapsed": true
   },
   "outputs": [],
   "source": []
  },
  {
   "cell_type": "code",
   "execution_count": null,
   "metadata": {
    "collapsed": true
   },
   "outputs": [],
   "source": []
  },
  {
   "cell_type": "code",
   "execution_count": null,
   "metadata": {
    "collapsed": true
   },
   "outputs": [],
   "source": []
  }
 ],
 "metadata": {
  "kernelspec": {
   "display_name": "Python 3",
   "language": "python",
   "name": "python3"
  },
  "language_info": {
   "codemirror_mode": {
    "name": "ipython",
    "version": 2
   },
   "file_extension": ".py",
   "mimetype": "text/x-python",
   "name": "python",
   "nbconvert_exporter": "python",
   "pygments_lexer": "ipython2",
   "version": "2.7.12"
  }
 },
 "nbformat": 4,
 "nbformat_minor": 2
}

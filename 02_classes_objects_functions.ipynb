{
 "cells": [
  {
   "cell_type": "markdown",
   "metadata": {},
   "source": [
    "# COMP3330/6380 Python Introduction"
   ]
  },
  {
   "cell_type": "markdown",
   "metadata": {},
   "source": [
    "It is considered good practice to separate code functionality into *functions*. This allows us to call each function with different *parameters* and generally improves readability. For example, the following code will check if the list **a** contains the value of **b**."
   ]
  },
  {
   "cell_type": "code",
   "execution_count": 1,
   "metadata": {},
   "outputs": [
    {
     "name": "stdout",
     "output_type": "stream",
     "text": [
      "True\n"
     ]
    }
   ],
   "source": [
    "a = [1, 2, 3, 4]\n",
    "b = 3\n",
    "for element in a:\n",
    "    if element == b:\n",
    "        print(True)"
   ]
  },
  {
   "cell_type": "markdown",
   "metadata": {},
   "source": [
    "It would be considered better practice to separate the loop into its own appropriately-named function. For example:"
   ]
  },
  {
   "cell_type": "code",
   "execution_count": 2,
   "metadata": {
    "collapsed": true
   },
   "outputs": [],
   "source": [
    "def list_contains(input_list, element_to_check):\n",
    "    for element in input_list:\n",
    "        if element == element_to_check:\n",
    "            return True\n",
    "    return False"
   ]
  },
  {
   "cell_type": "markdown",
   "metadata": {},
   "source": [
    "Now we can use reuse this function as many times as we want! Note that the function and its parameters are appropriately named. We have increased the overall readability of our code. To use this function:"
   ]
  },
  {
   "cell_type": "code",
   "execution_count": 3,
   "metadata": {},
   "outputs": [
    {
     "name": "stdout",
     "output_type": "stream",
     "text": [
      "True\n",
      "False\n"
     ]
    }
   ],
   "source": [
    "a = [10, 11, 12, 13]\n",
    "print(list_contains(a, 10))\n",
    "print(list_contains(a, 20))"
   ]
  },
  {
   "cell_type": "markdown",
   "metadata": {},
   "source": [
    "## Classes"
   ]
  },
  {
   "cell_type": "markdown",
   "metadata": {},
   "source": [
    "In object-oriented programming, a class is a *template* for creating **objects**. Classes provide initial values for variables and implementations of methods that operate on the class' variables.\n",
    "\n",
    "We won't use classes heavily during this course, but it is important to know that they exist and how they work.\n",
    "\n",
    "As a basic example, let's write an Employee class that stores an Employee's name and salary."
   ]
  },
  {
   "cell_type": "code",
   "execution_count": 4,
   "metadata": {
    "collapsed": true
   },
   "outputs": [],
   "source": [
    "class Employee:\n",
    "    def __init__(self, name, salary): #this method is known as a constructor and is called each time we create a new Employee object\n",
    "        self.name = name #self refers to the current object -- here we are setting the object's name\n",
    "        self.salary = salary\n",
    "        \n",
    "    def give_pay_rise(self, amount):\n",
    "        self.salary += amount\n",
    "        \n",
    "    def print_employee_data(self):\n",
    "        print(\"Employee name:\",self.name,\"\\tEmployee's salary\",self.salary)"
   ]
  },
  {
   "cell_type": "markdown",
   "metadata": {},
   "source": [
    "Next, let's test our Employee class by creating two Employee objects."
   ]
  },
  {
   "cell_type": "code",
   "execution_count": 5,
   "metadata": {},
   "outputs": [
    {
     "name": "stdout",
     "output_type": "stream",
     "text": [
      "('Employee name:', 'Doug', \"\\tEmployee's salary\", 50000)\n",
      "('Employee name:', 'Sarah', \"\\tEmployee's salary\", 65000)\n",
      "('Employee name:', 'Doug', \"\\tEmployee's salary\", 60000)\n"
     ]
    }
   ],
   "source": [
    "doug = Employee(\"Doug\", 50000) #create a new Employee object with name \"Doug\" and salary 50000\n",
    "\n",
    "doug.print_employee_data()\n",
    "\n",
    "sarah = Employee(\"Sarah\", 65000) \n",
    "\n",
    "sarah.print_employee_data()\n",
    "\n",
    "#give doug a pay rise and then display his data again\n",
    "doug.give_pay_rise(10000)\n",
    "doug.print_employee_data()"
   ]
  },
  {
   "cell_type": "markdown",
   "metadata": {},
   "source": [
    "## Classes challenge\n",
    "\n",
    "Even though .add_trick() is being called on two separate objects, it seems that the function is adding both strings to the same list. Modify the code so that each object has its own list of tricks."
   ]
  },
  {
   "cell_type": "code",
   "execution_count": 6,
   "metadata": {},
   "outputs": [
    {
     "name": "stdout",
     "output_type": "stream",
     "text": [
      "['roll over', 'shake hands']\n"
     ]
    }
   ],
   "source": [
    "class Dog:\n",
    "    tricks = []\n",
    "    def __init__(self, name):\n",
    "        self.name = name\n",
    "\n",
    "    def add_trick(self, trick):\n",
    "        self.tricks.append(trick)\n",
    "        \n",
    "dog = Dog(\"Buddy\")\n",
    "dog.add_trick(\"roll over\")\n",
    "\n",
    "dog2 = Dog(\"Lucy\")\n",
    "dog2.add_trick(\"shake hands\")\n",
    "\n",
    "print(dog2.tricks)"
   ]
  },
  {
   "cell_type": "code",
   "execution_count": null,
   "metadata": {
    "collapsed": true
   },
   "outputs": [],
   "source": []
  }
 ],
 "metadata": {
  "kernelspec": {
   "display_name": "Python 3",
   "language": "python",
   "name": "python3"
  },
  "language_info": {
   "codemirror_mode": {
    "name": "ipython",
    "version": 2
   },
   "file_extension": ".py",
   "mimetype": "text/x-python",
   "name": "python",
   "nbconvert_exporter": "python",
   "pygments_lexer": "ipython2",
   "version": "2.7.12"
  }
 },
 "nbformat": 4,
 "nbformat_minor": 2
}

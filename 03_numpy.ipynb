{
 "cells": [
  {
   "cell_type": "markdown",
   "metadata": {},
   "source": [
    "# COMP3330/6380 Python Introduction"
   ]
  },
  {
   "cell_type": "markdown",
   "metadata": {},
   "source": [
    "## Numpy"
   ]
  },
  {
   "cell_type": "markdown",
   "metadata": {},
   "source": [
    "Numpy is a fundamental numeric computing package for Python. Numpy includes functionality to create N-dimensional arrays, tools for integrating C/C++ code, and provides many mathematical functions."
   ]
  },
  {
   "cell_type": "code",
   "execution_count": 1,
   "metadata": {},
   "outputs": [
    {
     "name": "stdout",
     "output_type": "stream",
     "text": [
      "(array([3, 2, 1]), <type 'numpy.ndarray'>)\n",
      "(3,)\n",
      "(3, 1, array([2, 1]), array([3, 2]))\n"
     ]
    }
   ],
   "source": [
    "import numpy as np\n",
    "\n",
    "a = np.array([3, 2, 1]) #create an array from a list\n",
    "\n",
    "print(a, type(a))\n",
    "print(a.shape)\n",
    "print(a[0], a[-1], a[1:], a[:2]) #we can slice numpy arrays"
   ]
  },
  {
   "cell_type": "code",
   "execution_count": 2,
   "metadata": {},
   "outputs": [
    {
     "name": "stdout",
     "output_type": "stream",
     "text": [
      "(array([[3, 2, 1],\n",
      "       [6, 5, 4]]), <type 'numpy.ndarray'>)\n",
      "(2, 3)\n",
      "(2, 4, array([[6, 5, 4]]), array([[3, 2, 1],\n",
      "       [6, 5, 4]]))\n"
     ]
    }
   ],
   "source": [
    "b = np.array([[3, 2, 1],[6, 5, 4]]) #create 2d array\n",
    "\n",
    "print(b, type(b))\n",
    "print(b.shape)\n",
    "print(b[0, 1], b[1, -1], b[1:], b[:2])"
   ]
  },
  {
   "cell_type": "code",
   "execution_count": 3,
   "metadata": {},
   "outputs": [
    {
     "name": "stdout",
     "output_type": "stream",
     "text": [
      "[[ 0.  0.]\n",
      " [ 0.  0.]\n",
      " [ 0.  0.]]\n",
      "[[ 1.  1.  1.]\n",
      " [ 1.  1.  1.]]\n",
      "[[ 0.20418615  0.00904342]\n",
      " [ 0.24937071  0.46074931]\n",
      " [ 0.80199387  0.99532607]\n",
      " [ 0.17083691  0.20283824]]\n"
     ]
    }
   ],
   "source": [
    "c = np.zeros((3,2)) #create an array of zeros of given size\n",
    "print(c)\n",
    "\n",
    "d = np.ones((2,3)) #create an array of ones of given size\n",
    "print(d)\n",
    "\n",
    "e = np.random.random((4,2)) #create an array of random numbers of given size\n",
    "print(e)"
   ]
  },
  {
   "cell_type": "code",
   "execution_count": 4,
   "metadata": {},
   "outputs": [
    {
     "name": "stdout",
     "output_type": "stream",
     "text": [
      "[0 1 2 3]\n",
      "[ 1.   1.1  1.2  1.3  1.4  1.5  1.6  1.7  1.8  1.9]\n"
     ]
    }
   ],
   "source": [
    "#arange creates an array containing evenly spaced numbers within a given interval\n",
    "#numpy.arange(start, stop, step)\n",
    "f = np.arange(4) \n",
    "print(f)\n",
    "\n",
    "g = np.arange(1, 2, 0.1)\n",
    "print(g)"
   ]
  },
  {
   "cell_type": "code",
   "execution_count": 5,
   "metadata": {},
   "outputs": [
    {
     "name": "stdout",
     "output_type": "stream",
     "text": [
      "[10 12 14 16 18 20 22 24 26 28]\n",
      "[-10 -10 -10 -10 -10 -10 -10 -10 -10 -10]\n",
      "[  0  11  24  39  56  75  96 119 144 171]\n",
      "[0 0 0 0 0 0 0 0 0 0]\n"
     ]
    }
   ],
   "source": [
    "h = np.arange(0, 10)\n",
    "i = np.arange(10, 20)\n",
    "\n",
    "print(np.add(h, i))\n",
    "\n",
    "print(np.subtract(h, i))\n",
    "\n",
    "print(np.multiply(h, i))\n",
    "\n",
    "print(np.divide(h, i))"
   ]
  },
  {
   "cell_type": "code",
   "execution_count": 6,
   "metadata": {},
   "outputs": [
    {
     "name": "stdout",
     "output_type": "stream",
     "text": [
      "[  1.   2.   3.   4.   5.   6.   7.   8.   9.  10.  11.]\n"
     ]
    }
   ],
   "source": [
    "j = np.arange(1, 12)\n",
    "\n",
    "j = np.sqrt(j)\n",
    "\n",
    "print(np.power(j, 2))"
   ]
  },
  {
   "cell_type": "code",
   "execution_count": 7,
   "metadata": {},
   "outputs": [
    {
     "name": "stdout",
     "output_type": "stream",
     "text": [
      "39\n"
     ]
    }
   ],
   "source": [
    "k = np.array([3, 4])\n",
    "l = np.array([5, 6])\n",
    "\n",
    "print(np.dot(k, l)) #computes dot product"
   ]
  },
  {
   "cell_type": "code",
   "execution_count": 8,
   "metadata": {},
   "outputs": [
    {
     "name": "stdout",
     "output_type": "stream",
     "text": [
      "3.14159265359\n",
      "2.71828182846\n"
     ]
    }
   ],
   "source": [
    "#numpy includes mathematical constants\n",
    "print(np.pi)\n",
    "\n",
    "print(np.e)"
   ]
  },
  {
   "cell_type": "code",
   "execution_count": null,
   "metadata": {
    "collapsed": true
   },
   "outputs": [],
   "source": []
  },
  {
   "cell_type": "code",
   "execution_count": null,
   "metadata": {
    "collapsed": true
   },
   "outputs": [],
   "source": []
  }
 ],
 "metadata": {
  "kernelspec": {
   "display_name": "Python 3",
   "language": "python",
   "name": "python3"
  },
  "language_info": {
   "codemirror_mode": {
    "name": "ipython",
    "version": 2
   },
   "file_extension": ".py",
   "mimetype": "text/x-python",
   "name": "python",
   "nbconvert_exporter": "python",
   "pygments_lexer": "ipython2",
   "version": "2.7.12"
  }
 },
 "nbformat": 4,
 "nbformat_minor": 2
}
